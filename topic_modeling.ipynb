{
 "cells": [
  {
   "cell_type": "markdown",
   "metadata": {},
   "source": [
    "# Topic Modeling with Eugenics Articles"
   ]
  },
  {
   "cell_type": "markdown",
   "metadata": {
    "id": "7k7UGSAq595X"
   },
   "source": [
    "## Import Data\n",
    "\n",
    "Get data from picklefiles and store in DataFrame"
   ]
  },
  {
   "cell_type": "code",
   "execution_count": 1,
   "metadata": {},
   "outputs": [
    {
     "data": {
      "text/html": [
       "<div>\n",
       "<style scoped>\n",
       "    .dataframe tbody tr th:only-of-type {\n",
       "        vertical-align: middle;\n",
       "    }\n",
       "\n",
       "    .dataframe tbody tr th {\n",
       "        vertical-align: top;\n",
       "    }\n",
       "\n",
       "    .dataframe thead th {\n",
       "        text-align: right;\n",
       "    }\n",
       "</style>\n",
       "<table border=\"1\" class=\"dataframe\">\n",
       "  <thead>\n",
       "    <tr style=\"text-align: right;\">\n",
       "      <th></th>\n",
       "      <th>title</th>\n",
       "      <th>year</th>\n",
       "      <th>publisher</th>\n",
       "      <th>content</th>\n",
       "      <th>has_ref</th>\n",
       "      <th>references</th>\n",
       "      <th>start_page</th>\n",
       "    </tr>\n",
       "  </thead>\n",
       "  <tbody>\n",
       "    <tr>\n",
       "      <th>0</th>\n",
       "      <td>meetings and recent publications</td>\n",
       "      <td>1961</td>\n",
       "      <td>Eugenics Quarterly</td>\n",
       "      <td>organization reports: association for the ai...</td>\n",
       "      <td>False</td>\n",
       "      <td></td>\n",
       "      <td>171</td>\n",
       "    </tr>\n",
       "    <tr>\n",
       "      <th>1</th>\n",
       "      <td>notes at the conclusion of the second princeto...</td>\n",
       "      <td>1966</td>\n",
       "      <td>Eugenics Quarterly</td>\n",
       "      <td>the purpose of this meeting, as i understand...</td>\n",
       "      <td>False</td>\n",
       "      <td></td>\n",
       "      <td>147</td>\n",
       "    </tr>\n",
       "    <tr>\n",
       "      <th>2</th>\n",
       "      <td>discussions on the teaching of genetics to med...</td>\n",
       "      <td>1961</td>\n",
       "      <td>Eugenics Quarterly</td>\n",
       "      <td>i n october  1961  at the rockefeller instit...</td>\n",
       "      <td>False</td>\n",
       "      <td></td>\n",
       "      <td>223</td>\n",
       "    </tr>\n",
       "    <tr>\n",
       "      <th>3</th>\n",
       "      <td>a return to the principles of natural selection</td>\n",
       "      <td>1960</td>\n",
       "      <td>Eugenics Quarterly</td>\n",
       "      <td>editor's note: it is generally agreed that m...</td>\n",
       "      <td>False</td>\n",
       "      <td></td>\n",
       "      <td>204</td>\n",
       "    </tr>\n",
       "    <tr>\n",
       "      <th>4</th>\n",
       "      <td>color blindness among korean students</td>\n",
       "      <td>1967</td>\n",
       "      <td>Eugenics Quarterly</td>\n",
       "      <td>introduction sexlinked defects in color visi...</td>\n",
       "      <td>True</td>\n",
       "      <td>KALMUS, HANS,  1965 . Diagnosis and Genetics ...</td>\n",
       "      <td>271</td>\n",
       "    </tr>\n",
       "    <tr>\n",
       "      <th>...</th>\n",
       "      <td>...</td>\n",
       "      <td>...</td>\n",
       "      <td>...</td>\n",
       "      <td>...</td>\n",
       "      <td>...</td>\n",
       "      <td>...</td>\n",
       "      <td>...</td>\n",
       "    </tr>\n",
       "    <tr>\n",
       "      <th>398</th>\n",
       "      <td>the effect of unwanted pregnancies on a relief...</td>\n",
       "      <td>1961</td>\n",
       "      <td>Eugenics Quarterly</td>\n",
       "      <td>i. background of investigation jcrom the dat...</td>\n",
       "      <td>True</td>\n",
       "      <td>BUELL, BRADLEY, AND ASSOCIATES.  1952 . Commu...</td>\n",
       "      <td>142</td>\n",
       "    </tr>\n",
       "    <tr>\n",
       "      <th>399</th>\n",
       "      <td>fertility differentials among economic strata ...</td>\n",
       "      <td>1960</td>\n",
       "      <td>Eugenics Quarterly</td>\n",
       "      <td>x he pattern of population growth in india w...</td>\n",
       "      <td>False</td>\n",
       "      <td></td>\n",
       "      <td>77</td>\n",
       "    </tr>\n",
       "    <tr>\n",
       "      <th>400</th>\n",
       "      <td>selection against \"colorblindness\" among \"prim...</td>\n",
       "      <td>1965</td>\n",
       "      <td>Eugenics Quarterly</td>\n",
       "      <td>selection against \"colorblindness\" among \"pr...</td>\n",
       "      <td>True</td>\n",
       "      <td>Li, C. C.,  1955 . Population Genetics. Unive...</td>\n",
       "      <td>28</td>\n",
       "    </tr>\n",
       "    <tr>\n",
       "      <th>401</th>\n",
       "      <td>a further note on evolution and schizophrenia</td>\n",
       "      <td>1967</td>\n",
       "      <td>Eugenics Quarterly</td>\n",
       "      <td>the comments by kuttner and lorincz ( 1966 ,...</td>\n",
       "      <td>True</td>\n",
       "      <td>HUXLEY, J., E. MAYR, H. OSMOND, and A. HOFFER...</td>\n",
       "      <td>158</td>\n",
       "    </tr>\n",
       "    <tr>\n",
       "      <th>402</th>\n",
       "      <td>genetic signposts of preventive medicine</td>\n",
       "      <td>1960</td>\n",
       "      <td>Eugenics Quarterly</td>\n",
       "      <td>genetic signposts of preventive medicine h. ...</td>\n",
       "      <td>True</td>\n",
       "      <td>1 . BELKNAP, HAROLD R. and WILLIAM G. HAYES....</td>\n",
       "      <td>69</td>\n",
       "    </tr>\n",
       "  </tbody>\n",
       "</table>\n",
       "<p>403 rows × 7 columns</p>\n",
       "</div>"
      ],
      "text/plain": [
       "                                                 title  year  \\\n",
       "0                     meetings and recent publications  1961   \n",
       "1    notes at the conclusion of the second princeto...  1966   \n",
       "2    discussions on the teaching of genetics to med...  1961   \n",
       "3      a return to the principles of natural selection  1960   \n",
       "4                color blindness among korean students  1967   \n",
       "..                                                 ...   ...   \n",
       "398  the effect of unwanted pregnancies on a relief...  1961   \n",
       "399  fertility differentials among economic strata ...  1960   \n",
       "400  selection against \"colorblindness\" among \"prim...  1965   \n",
       "401      a further note on evolution and schizophrenia  1967   \n",
       "402           genetic signposts of preventive medicine  1960   \n",
       "\n",
       "              publisher                                            content  \\\n",
       "0    Eugenics Quarterly    organization reports: association for the ai...   \n",
       "1    Eugenics Quarterly    the purpose of this meeting, as i understand...   \n",
       "2    Eugenics Quarterly    i n october  1961  at the rockefeller instit...   \n",
       "3    Eugenics Quarterly    editor's note: it is generally agreed that m...   \n",
       "4    Eugenics Quarterly    introduction sexlinked defects in color visi...   \n",
       "..                  ...                                                ...   \n",
       "398  Eugenics Quarterly    i. background of investigation jcrom the dat...   \n",
       "399  Eugenics Quarterly    x he pattern of population growth in india w...   \n",
       "400  Eugenics Quarterly    selection against \"colorblindness\" among \"pr...   \n",
       "401  Eugenics Quarterly    the comments by kuttner and lorincz ( 1966 ,...   \n",
       "402  Eugenics Quarterly    genetic signposts of preventive medicine h. ...   \n",
       "\n",
       "     has_ref                                         references start_page  \n",
       "0      False                                                           171  \n",
       "1      False                                                           147  \n",
       "2      False                                                           223  \n",
       "3      False                                                           204  \n",
       "4       True   KALMUS, HANS,  1965 . Diagnosis and Genetics ...        271  \n",
       "..       ...                                                ...        ...  \n",
       "398     True   BUELL, BRADLEY, AND ASSOCIATES.  1952 . Commu...        142  \n",
       "399    False                                                            77  \n",
       "400     True   Li, C. C.,  1955 . Population Genetics. Unive...         28  \n",
       "401     True   HUXLEY, J., E. MAYR, H. OSMOND, and A. HOFFER...        158  \n",
       "402     True    1 . BELKNAP, HAROLD R. and WILLIAM G. HAYES....         69  \n",
       "\n",
       "[403 rows x 7 columns]"
      ]
     },
     "execution_count": 1,
     "metadata": {},
     "output_type": "execute_result"
    }
   ],
   "source": [
    "import pickle\n",
    "import pandas as pd \n",
    "import os\n",
    "\n",
    "filenames = os.listdir('equarterly_clean_articles/')\n",
    "\n",
    "dicts = []\n",
    "\n",
    "for file in filenames:\n",
    "    infile = open('equarterly_clean_articles/' + file,'rb')\n",
    "    corp_dict = pickle.load(infile)\n",
    "    dicts.append(corp_dict)\n",
    "    infile.close\n",
    "    \n",
    "df = pd.DataFrame(dicts)\n",
    "\n",
    "df['title'] = df['title'].str.lower()\n",
    "df['content'] = df['content'].str.lower()\n",
    "df['year'] = pd.to_numeric(df['year'])\n",
    "df"
   ]
  },
  {
   "cell_type": "markdown",
   "metadata": {},
   "source": [
    "## ***Tokenize with NLTK***\n",
    "### In general, there are two levels of tokenization: sentence level and word level."
   ]
  },
  {
   "cell_type": "code",
   "execution_count": 2,
   "metadata": {
    "id": "T69jZPfxl3pc"
   },
   "outputs": [],
   "source": [
    "import nltk"
   ]
  },
  {
   "cell_type": "code",
   "execution_count": 3,
   "metadata": {
    "colab": {
     "base_uri": "https://localhost:8080/"
    },
    "id": "wrmwbgfdmAvu",
    "outputId": "5f783daf-0e6f-45f4-c7ae-6b35bd2cdb12"
   },
   "outputs": [
    {
     "name": "stderr",
     "output_type": "stream",
     "text": [
      "[nltk_data] Downloading package punkt to /Users/zeke/nltk_data...\n",
      "[nltk_data]   Package punkt is already up-to-date!\n"
     ]
    },
    {
     "data": {
      "text/plain": [
       "True"
      ]
     },
     "execution_count": 3,
     "metadata": {},
     "output_type": "execute_result"
    }
   ],
   "source": [
    "# download the nltk data\n",
    "\n",
    "import nltk\n",
    "import ssl\n",
    "\n",
    "try:\n",
    "    _create_unverified_https_context = ssl._create_unverified_context\n",
    "except AttributeError:\n",
    "    pass\n",
    "else:\n",
    "    ssl._create_default_https_context = _create_unverified_https_context\n",
    "\n",
    "nltk.download('punkt')"
   ]
  },
  {
   "cell_type": "code",
   "execution_count": 4,
   "metadata": {
    "id": "Y8iWWXYWmxBp"
   },
   "outputs": [],
   "source": [
    "from nltk.tokenize import sent_tokenize, word_tokenize"
   ]
  },
  {
   "cell_type": "code",
   "execution_count": 5,
   "metadata": {
    "colab": {
     "base_uri": "https://localhost:8080/"
    },
    "id": "1f937mGrnX5d",
    "outputId": "cbda3770-444f-4db7-a0e8-2ee893c3b6bf"
   },
   "outputs": [],
   "source": [
    "df[\"title_token\"] = df['title'].apply(word_tokenize)"
   ]
  },
  {
   "cell_type": "markdown",
   "metadata": {
    "id": "on6nRXCroW2T"
   },
   "source": [
    "# ***Stemming with NLTK***\n",
    "\n",
    "#### The concept of stemming is a standardized method. Except for tense, many variations of words have the same meaning. To understand stem technique, consider the following:\n",
    "\n",
    "- #### ***I like writing python code in a pythonic way.***\n",
    "- #### ***I like pythoning pythonic python code.***\n",
    "\n",
    "#### As you may see, although the two sentence vary in terms of using ***python***, however, the stem of the two sentences is the same: **python**"
   ]
  },
  {
   "cell_type": "code",
   "execution_count": 6,
   "metadata": {
    "id": "1144nJ6HoWJe"
   },
   "outputs": [],
   "source": [
    "from nltk.stem import PorterStemmer\n",
    "ps = PorterStemmer()"
   ]
  },
  {
   "cell_type": "code",
   "execution_count": 7,
   "metadata": {
    "colab": {
     "base_uri": "https://localhost:8080/"
    },
    "id": "1znrU4RPojbp",
    "outputId": "b0e6cead-d531-40f9-80bb-33bb0116f4ac"
   },
   "outputs": [],
   "source": [
    "# def stem_list(tokens):\n",
    "#     new_tokens = []\n",
    "#     for token in tokens:\n",
    "#         new_tokens.append(ps.stem(token.lower()))\n",
    "    \n",
    "#     return new_tokens\n",
    "\n",
    "# df['title_token'] = df['title_token'].apply(stem_list)\n",
    "\n",
    "# df['title_token']"
   ]
  },
  {
   "cell_type": "markdown",
   "metadata": {
    "id": "lsiCPue6I-92"
   },
   "source": [
    "# ***Lemmatizing with NLTK***\n",
    "\n",
    "#### An operation very similar to stemming is called lemmatizing. The main difference between the two is that, stemming can create non-existent vocabulary.Let's look at some examples."
   ]
  },
  {
   "cell_type": "code",
   "execution_count": 8,
   "metadata": {
    "colab": {
     "base_uri": "https://localhost:8080/"
    },
    "id": "Rv1ktV_YK1DU",
    "outputId": "3e7f8976-372c-429d-a84c-d36d23905739"
   },
   "outputs": [
    {
     "name": "stderr",
     "output_type": "stream",
     "text": [
      "[nltk_data] Downloading package wordnet to /Users/zeke/nltk_data...\n",
      "[nltk_data]   Package wordnet is already up-to-date!\n"
     ]
    },
    {
     "data": {
      "text/plain": [
       "0                    [meeting, and, recent, publication]\n",
       "1      [note, at, the, conclusion, of, the, second, p...\n",
       "2      [discussion, on, the, teaching, of, genetics, ...\n",
       "3      [a, return, to, the, principle, of, natural, s...\n",
       "4             [color, blindness, among, korean, student]\n",
       "                             ...                        \n",
       "398    [the, effect, of, unwanted, pregnancy, on, a, ...\n",
       "399    [fertility, differential, among, economic, str...\n",
       "400    [selection, against, ``, colorblindness, '', a...\n",
       "401    [a, further, note, on, evolution, and, schizop...\n",
       "402        [genetic, signpost, of, preventive, medicine]\n",
       "Name: title_token, Length: 403, dtype: object"
      ]
     },
     "execution_count": 8,
     "metadata": {},
     "output_type": "execute_result"
    }
   ],
   "source": [
    "from nltk.stem import WordNetLemmatizer\n",
    "nltk.download('wordnet')\n",
    "\n",
    "lemmatizer = WordNetLemmatizer()\n",
    "\n",
    "def lem_list(tokens):\n",
    "    new_tokens = []\n",
    "    for token in tokens:\n",
    "        new_tokens.append(lemmatizer.lemmatize(token))\n",
    "    \n",
    "    return new_tokens\n",
    "\n",
    "df['title_token'] = df['title_token'].apply(lem_list)\n",
    "\n",
    "df['title_token']"
   ]
  },
  {
   "cell_type": "markdown",
   "metadata": {
    "id": "kWFYX5dXL8lc"
   },
   "source": [
    "#### Note that if you do not  assign the *pos* parameter, it will default to **'n'** (noun)."
   ]
  },
  {
   "cell_type": "markdown",
   "metadata": {
    "id": "D7vO5aHHnrsZ"
   },
   "source": [
    "# ***Stop words removal with NLTK***\n",
    "\n",
    "#### The process of converting data into something the computer can understand is called pre-processing. One of the main forms of preprocessing is to filter out *useless* data. In NLP, the useless words (data) are called **stop words**.\n",
    "\n",
    "#### The key assumption behinds this is: ***Some words are more meaningful than others***."
   ]
  },
  {
   "cell_type": "code",
   "execution_count": 9,
   "metadata": {
    "id": "c2_ETvKinp-v"
   },
   "outputs": [],
   "source": [
    "from nltk.corpus import stopwords"
   ]
  },
  {
   "cell_type": "code",
   "execution_count": 10,
   "metadata": {
    "colab": {
     "base_uri": "https://localhost:8080/"
    },
    "id": "KG2TRvVZn6Eq",
    "outputId": "590b3bf6-fe88-4f7f-c364-6b58c2b30184"
   },
   "outputs": [
    {
     "name": "stderr",
     "output_type": "stream",
     "text": [
      "[nltk_data] Downloading package stopwords to /Users/zeke/nltk_data...\n",
      "[nltk_data]   Package stopwords is already up-to-date!\n"
     ]
    },
    {
     "data": {
      "text/plain": [
       "True"
      ]
     },
     "execution_count": 10,
     "metadata": {},
     "output_type": "execute_result"
    }
   ],
   "source": [
    "nltk.download('stopwords')"
   ]
  },
  {
   "cell_type": "code",
   "execution_count": 11,
   "metadata": {
    "colab": {
     "base_uri": "https://localhost:8080/"
    },
    "id": "sEpfIFGQoUNM",
    "outputId": "ea3d337e-bb0b-4855-fae2-56731f4faa44"
   },
   "outputs": [
    {
     "data": {
      "text/plain": [
       "0                         [meeting, recent, publication]\n",
       "1      [note, conclusion, second, princeton, conferen...\n",
       "2      [discussion, teaching, genetics, medical, stud...\n",
       "3                [return, principle, natural, selection]\n",
       "4             [color, blindness, among, korean, student]\n",
       "                             ...                        \n",
       "398    [effect, unwanted, pregnancy, relief, load, ex...\n",
       "399    [fertility, differential, among, economic, str...\n",
       "400    [selection, colorblindness, among, primitive, ...\n",
       "401                     [note, evolution, schizophrenia]\n",
       "402            [genetic, signpost, preventive, medicine]\n",
       "Name: title_token, Length: 403, dtype: object"
      ]
     },
     "execution_count": 11,
     "metadata": {},
     "output_type": "execute_result"
    }
   ],
   "source": [
    "from nltk.corpus import stopwords\n",
    "from nltk.tokenize import word_tokenize\n",
    "\n",
    "def remove_stop(tokens):\n",
    "    stop_words = set(stopwords.words('english'))\n",
    "    stop_words.add('``')\n",
    "    stop_words.add(\"''\")\n",
    "    stop_words.add(',')\n",
    "    stop_words.add(\":\")\n",
    "    stop_words.add(\"'s\")\n",
    "    stop_words.add(\".\")\n",
    "    stop_words.add(\")\")\n",
    "    stop_words.add(\"(\")\n",
    "    stop_words.add(\"?\")\n",
    "    \n",
    "    new_tokens = [w for w in tokens if not w in stop_words]\n",
    "    return new_tokens\n",
    "\n",
    "df['title_token'] = df['title_token'].apply(remove_stop)\n",
    "\n",
    "df['title_token']"
   ]
  },
  {
   "cell_type": "markdown",
   "metadata": {
    "id": "WTHlfZnDIAok"
   },
   "source": [
    "# **Topic Modeling With LDA**"
   ]
  },
  {
   "cell_type": "code",
   "execution_count": 12,
   "metadata": {},
   "outputs": [],
   "source": [
    "from gensim import corpora\n",
    "import gensim\n",
    "\n",
    "\n",
    "text_data = df[df['year'] <= 1959]['title_token']\n",
    "dictionary1 = corpora.Dictionary(text_data)\n",
    "corpus1 = [dictionary1.doc2bow(text) for text in text_data]\n",
    "\n",
    "NUM_TOPICS = 3\n",
    "ldamodel1 = gensim.models.ldamodel.LdaModel(corpus1, num_topics = NUM_TOPICS, id2word=dictionary1, passes=15)\n",
    "topics = ldamodel1.print_topics(num_words=4)\n",
    "\n",
    "text_data = df[df['year'] > 1959]['title_token']\n",
    "dictionary2 = corpora.Dictionary(text_data)\n",
    "corpus2 = [dictionary2.doc2bow(text) for text in text_data]\n",
    "\n",
    "NUM_TOPICS = 3\n",
    "ldamodel2 = gensim.models.ldamodel.LdaModel(corpus2, num_topics = NUM_TOPICS, id2word=dictionary2, passes=15)\n",
    "topics = ldamodel2.print_topics(num_words=4)\n"
   ]
  },
  {
   "cell_type": "code",
   "execution_count": 13,
   "metadata": {},
   "outputs": [
    {
     "data": {
      "text/html": [
       "\n",
       "<link rel=\"stylesheet\" type=\"text/css\" href=\"https://cdn.rawgit.com/bmabey/pyLDAvis/files/ldavis.v1.0.0.css\">\n",
       "\n",
       "\n",
       "<div id=\"ldavis_el7264150826002161305905955\"></div>\n",
       "<script type=\"text/javascript\">\n",
       "\n",
       "var ldavis_el7264150826002161305905955_data = {\"mdsDat\": {\"x\": [0.09341238182068765, -0.1254993318647664, 0.03208695004407877], \"y\": [-0.07416139768529892, -0.028860251534067568, 0.10302164921936645], \"topics\": [1, 2, 3], \"cluster\": [1, 1, 1], \"Freq\": [36.76503856962378, 29.02596897273203, 34.208992457644186]}, \"tinfo\": {\"Term\": [\"heredity\", \"counseling\", \"human\", \"study\", \"marriage\", \"eugenics\", \"comment\", \"population\", \"editorial\", \"gene\", \"genetic\", \"disease\", \"genetics\", \"counselor\", \"intelligence\", \"fertility\", \"type\", \"pattern\", \"eugenic\", \"mating\", \"social\", \"research\", \"medical\", \"aspect\", \"problem\", \"symposium\", \"rico\", \"puerto\", \"character\", \"recent\", \"study\", \"gene\", \"mating\", \"social\", \"character\", \"recent\", \"schizophrenia\", \"japan\", \"distribution\", \"size\", \"rate\", \"mutation\", \"netherlands\", \"inbreeding\", \"ii\", \"inherited\", \"woman\", \"confinement\", \"interval\", \"frequency\", \"review\", \"intelligence\", \"group\", \"effect\", \"ecumenical\", \"responsible\", \"mountain\", \"blue\", \"ridge\", \"question\", \"fertility\", \"family\", \"problem\", \"future\", \"regulation\", \"twin\", \"catholic\", \"population\", \"control\", \"pattern\", \"research\", \"man\", \"birth\", \"factor\", \"mental\", \"health\", \"counseling\", \"heredity\", \"human\", \"eugenics\", \"eugenic\", \"clinic\", \"biology\", \"canada\", \"part\", \"diabetes\", \"allowance\", \"first\", \"service\", \"improvement\", \"i.\", \"tenminute\", \"discussion\", \"presentation\", \"panel\", \"census\", \"data\", \"proceeding\", \"preventive\", \"premarital\", \"epileptic\", \"consultation\", \"complaint\", \"relative\", \"attitude\", \"toward\", \"perspective\", \"aspect\", \"western\", \"prospect\", \"congress\", \"international\", \"implication\", \"deafness\", \"two\", \"genetics\", \"session\", \"new\", \"contribution\", \"genetic\", \"analysis\", \"medical\", \"family\", \"control\", \"marriage\", \"comment\", \"editorial\", \"counselor\", \"type\", \"symposium\", \"rico\", \"puerto\", \"disease\", \"area\", \"public\", \"treatment\", \"consanguineous\", \"advice\", \"given\", \"eye\", \"relation\", \"examine\", \"issue\", \"cultural\", \"geneticist\", \"major\", \"presence\", \"reproductive\", \"denomination\", \"divorce\", \"sociologist\", \"iowa\", \"statistical\", \"underdeveloped\", \"genetic\", \"pattern\", \"medical\", \"population\", \"research\", \"factor\", \"birth\", \"genetics\", \"american\", \"planning\", \"affecting\", \"evolution\", \"hereditary\", \"family\", \"problem\", \"fertility\", \"man\", \"status\", \"characteristic\"], \"Freq\": [18.0, 12.0, 7.0, 8.0, 6.0, 5.0, 5.0, 11.0, 4.0, 4.0, 9.0, 5.0, 11.0, 3.0, 6.0, 13.0, 3.0, 6.0, 2.0, 3.0, 3.0, 6.0, 4.0, 3.0, 6.0, 2.0, 2.0, 2.0, 2.0, 2.0, 7.510764675639345, 4.348252608330963, 2.975533867557034, 2.875326889336567, 2.2888566311589154, 2.288321359449528, 2.2846666048115196, 2.2199514238480917, 2.1770399350363467, 2.1428425682068246, 1.6021259943981065, 1.6021166951265036, 1.601976642460241, 1.6015570480536723, 1.601542394655995, 1.6011955036455945, 1.6011542205155997, 1.6001694840120706, 1.600102698334195, 1.5984601088137858, 1.5953642967583357, 5.112902969037204, 3.004776976991065, 2.3171213445018735, 0.9153988800886625, 0.9153939486567518, 0.9152801734776705, 0.9152753124947871, 0.9152673517547028, 0.9152565026044994, 9.05393934669119, 7.54381034177065, 3.66287374750589, 2.366374936546821, 1.2876621076693524, 1.609880741526627, 1.6056866291356486, 4.647614759772659, 2.4645518555967567, 2.332722140698289, 2.233307009544617, 1.6714693946587045, 1.6597654159580826, 1.6443449692715424, 1.6163244322571884, 1.60339266790887, 11.96453515343232, 17.88243856598054, 6.354660717568841, 4.949090434269403, 2.178306451783569, 1.5246447434346728, 1.5244758827798526, 1.5243868916574175, 1.5242281537427742, 1.522948572641062, 1.522421967674053, 1.5222006022569958, 1.5221156157350706, 1.521162854530501, 1.3907581559257467, 0.8711377127804592, 0.8711374903026531, 0.871134709330077, 0.8711327070298223, 0.8710945520860782, 0.8710921048302113, 0.871073639172306, 0.8710413798904233, 0.8710330369726951, 0.8710060059192554, 0.8710032805661309, 0.8710025018938096, 0.870999776540685, 0.8709989422489122, 0.8709952713651117, 1.2872673761957154, 2.1909988106208593, 1.5415517218304844, 1.5376754910150223, 1.5321322339985468, 1.531880834077668, 1.5376229862527857, 1.534803525016239, 1.5291935246579373, 4.855837526981002, 1.9066290137466875, 1.5313553414996894, 1.5293010926771806, 2.818437393682934, 1.0596498878320093, 1.5208281366712424, 2.156804416780827, 1.5218978099629108, 6.163891821804515, 4.876524564487607, 4.212852819576226, 3.5445775491036877, 2.8802896234627564, 2.2146012632360677, 2.195496251960642, 2.195390976827487, 4.745753183766483, 1.5522185159699942, 1.5519803031219954, 1.5517839119022365, 1.5517717193899285, 1.5462211109372228, 1.5462174400733022, 1.4250334381971381, 2.2515702715771475, 0.8868520773989249, 0.8868479476770141, 0.8868374594943835, 0.8868272335163186, 0.8868208750555988, 0.8868012097131663, 0.886795965621851, 0.8867921636556474, 0.886792098104506, 0.8867865262574834, 0.8867781357113789, 0.8867764313817014, 0.886775775870287, 6.4442572002048575, 4.172504256586985, 2.8797353230107263, 6.578918647863689, 3.595002371350759, 2.8419162474674327, 2.827946512612539, 5.908501428293406, 2.2376288548153562, 1.5739779551669544, 1.570347339647072, 1.563763120796116, 1.5153572737054444, 3.1402510291688674, 2.218364160959379, 3.0699691929517527, 1.615303623470523, 1.5737649139572691, 1.5590477649876588], \"Total\": [18.0, 12.0, 7.0, 8.0, 6.0, 5.0, 5.0, 11.0, 4.0, 4.0, 9.0, 5.0, 11.0, 3.0, 6.0, 13.0, 3.0, 6.0, 2.0, 3.0, 3.0, 6.0, 4.0, 3.0, 6.0, 2.0, 2.0, 2.0, 2.0, 2.0, 8.216417584528406, 4.790215727536861, 3.416386225287302, 3.4132433716923956, 2.7294516816864336, 2.7294241843183245, 2.729318821177182, 2.7261077276620447, 2.7258512431072166, 2.724872896303357, 2.04251669046654, 2.042516351335386, 2.042510335676334, 2.0424917428331666, 2.042496982337052, 2.0424729998600464, 2.042482900370406, 2.042443614901986, 2.042441730238042, 2.0423460882280353, 2.042299886985581, 6.81060773373451, 4.082786250816964, 3.3958124887853334, 1.3555830883109687, 1.3555828343664695, 1.35557708887366, 1.3555768219564657, 1.3555764949662228, 1.3555769091680423, 13.566462421037333, 12.840865787720345, 6.0998858425501234, 4.0519181210908926, 2.032661736927971, 2.6965029788188, 2.696297957544548, 11.454636759718824, 5.373255120193199, 6.723952949464856, 6.055164757629466, 4.031601681856649, 4.706386351419264, 4.705885619819611, 3.3739705580428163, 2.7077919654678984, 12.434883204119094, 18.982389470811047, 7.2143560708491075, 5.9072982095446624, 2.629606590175599, 1.9759660286786567, 1.9759735967096512, 1.975981231746372, 1.9759924124753132, 1.97600136831104, 1.9760778378883705, 1.9760097725489767, 1.9760126206667519, 1.9760290324191472, 1.9827359187069875, 1.3223209706348462, 1.3223210302383082, 1.3223210094753424, 1.3223211612379624, 1.3223228916315832, 1.3223229210950898, 1.3223223154221986, 1.3223228691834592, 1.3223236573490253, 1.322324044939119, 1.322324875501022, 1.322324206242379, 1.3223242713416563, 1.3223243207658217, 1.3223244156843985, 1.9802635955497998, 3.960427931222153, 2.6411561754453543, 2.641235528196078, 2.6414798535909116, 2.6414769778694276, 2.662191277741401, 2.6623067694823646, 2.6626132756338836, 11.927346581475284, 4.6616349859179405, 3.34943940536943, 3.3494471035991524, 9.953087452883501, 1.9843902834658294, 4.638383894656023, 12.840865787720345, 5.373255120193199, 6.6575932612861095, 5.327444659851351, 4.661844462886508, 3.9962442636600746, 3.3307368719108537, 2.665354515149583, 2.6659627484394424, 2.6659658157074446, 5.978607049157392, 1.9997277202663848, 1.9997277504025404, 1.9997302301643511, 1.999723482021976, 1.9996140751516298, 1.999614649475876, 1.9974412959999648, 3.3196553061046212, 1.3341954513523955, 1.3341954355606749, 1.334195708475506, 1.334196152665514, 1.3341961384784073, 1.3341955202802536, 1.3341956655480687, 1.3341936044531848, 1.334193614017347, 1.3341972560992588, 1.3341934099040904, 1.3341935650161365, 1.3341954815818815, 9.953087452883501, 6.723952949464856, 4.638383894656023, 11.454636759718824, 6.055164757629466, 4.705885619819611, 4.706386351419264, 11.927346581475284, 4.038348192828551, 2.6858924061979494, 2.6860153998661365, 2.6861689131635154, 2.687765001650259, 12.840865787720345, 6.0998858425501234, 13.566462421037333, 4.031601681856649, 3.3398591056970024, 3.3733001895064403], \"Category\": [\"Default\", \"Default\", \"Default\", \"Default\", \"Default\", \"Default\", \"Default\", \"Default\", \"Default\", \"Default\", \"Default\", \"Default\", \"Default\", \"Default\", \"Default\", \"Default\", \"Default\", \"Default\", \"Default\", \"Default\", \"Default\", \"Default\", \"Default\", \"Default\", \"Default\", \"Default\", \"Default\", \"Default\", \"Default\", \"Default\", \"Topic1\", \"Topic1\", \"Topic1\", \"Topic1\", \"Topic1\", \"Topic1\", \"Topic1\", \"Topic1\", \"Topic1\", \"Topic1\", \"Topic1\", \"Topic1\", \"Topic1\", \"Topic1\", \"Topic1\", \"Topic1\", \"Topic1\", \"Topic1\", \"Topic1\", \"Topic1\", \"Topic1\", \"Topic1\", \"Topic1\", \"Topic1\", \"Topic1\", \"Topic1\", \"Topic1\", \"Topic1\", \"Topic1\", \"Topic1\", \"Topic1\", \"Topic1\", \"Topic1\", \"Topic1\", \"Topic1\", \"Topic1\", \"Topic1\", \"Topic1\", \"Topic1\", \"Topic1\", \"Topic1\", \"Topic1\", \"Topic1\", \"Topic1\", \"Topic1\", \"Topic1\", \"Topic2\", \"Topic2\", \"Topic2\", \"Topic2\", \"Topic2\", \"Topic2\", \"Topic2\", \"Topic2\", \"Topic2\", \"Topic2\", \"Topic2\", \"Topic2\", \"Topic2\", \"Topic2\", \"Topic2\", \"Topic2\", \"Topic2\", \"Topic2\", \"Topic2\", \"Topic2\", \"Topic2\", \"Topic2\", \"Topic2\", \"Topic2\", \"Topic2\", \"Topic2\", \"Topic2\", \"Topic2\", \"Topic2\", \"Topic2\", \"Topic2\", \"Topic2\", \"Topic2\", \"Topic2\", \"Topic2\", \"Topic2\", \"Topic2\", \"Topic2\", \"Topic2\", \"Topic2\", \"Topic2\", \"Topic2\", \"Topic2\", \"Topic2\", \"Topic2\", \"Topic2\", \"Topic2\", \"Topic2\", \"Topic3\", \"Topic3\", \"Topic3\", \"Topic3\", \"Topic3\", \"Topic3\", \"Topic3\", \"Topic3\", \"Topic3\", \"Topic3\", \"Topic3\", \"Topic3\", \"Topic3\", \"Topic3\", \"Topic3\", \"Topic3\", \"Topic3\", \"Topic3\", \"Topic3\", \"Topic3\", \"Topic3\", \"Topic3\", \"Topic3\", \"Topic3\", \"Topic3\", \"Topic3\", \"Topic3\", \"Topic3\", \"Topic3\", \"Topic3\", \"Topic3\", \"Topic3\", \"Topic3\", \"Topic3\", \"Topic3\", \"Topic3\", \"Topic3\", \"Topic3\", \"Topic3\", \"Topic3\", \"Topic3\", \"Topic3\", \"Topic3\", \"Topic3\", \"Topic3\", \"Topic3\", \"Topic3\", \"Topic3\", \"Topic3\"], \"logprob\": [30.0, 29.0, 28.0, 27.0, 26.0, 25.0, 24.0, 23.0, 22.0, 21.0, 20.0, 19.0, 18.0, 17.0, 16.0, 15.0, 14.0, 13.0, 12.0, 11.0, 10.0, 9.0, 8.0, 7.0, 6.0, 5.0, 4.0, 3.0, 2.0, 1.0, -3.696000099182129, -4.242599964141846, -4.6219000816345215, -4.656199932098389, -4.884300231933594, -4.884500026702881, -4.886099815368652, -4.91480016708374, -4.9344000816345215, -4.950200080871582, -5.241000175476074, -5.241000175476074, -5.241099834442139, -5.241399765014648, -5.241399765014648, -5.241600036621094, -5.241600036621094, -5.242199897766113, -5.242300033569336, -5.243299961090088, -5.245200157165527, -4.080599784851074, -4.612100124359131, -4.872000217437744, -5.8007001876831055, -5.8007001876831055, -5.800899982452393, -5.800899982452393, -5.800899982452393, -5.800899982452393, -3.5090999603271484, -3.6916000843048096, -4.414100170135498, -4.85099983215332, -5.459499835968018, -5.236199855804443, -5.238800048828125, -4.176000118255615, -4.810299873352051, -4.865300178527832, -4.90880012512207, -5.198599815368652, -5.205699920654297, -5.215000152587891, -5.2322001457214355, -5.240200042724609, -2.99399995803833, -2.5922000408172607, -3.626800060272217, -3.876800060272217, -4.697400093078613, -5.054200172424316, -5.054299831390381, -5.0543999671936035, -5.054500102996826, -5.055300235748291, -5.055699825286865, -5.055799961090088, -5.0559000968933105, -5.05649995803833, -5.146100044250488, -5.613900184631348, -5.613900184631348, -5.613900184631348, -5.613900184631348, -5.613999843597412, -5.613999843597412, -5.613999843597412, -5.613999843597412, -5.614099979400635, -5.614099979400635, -5.614099979400635, -5.614099979400635, -5.614099979400635, -5.614099979400635, -5.614099979400635, -5.223499774932861, -4.6915998458862305, -5.0432000160217285, -5.0457000732421875, -5.049300193786621, -5.049499988555908, -5.0457000732421875, -5.047599792480469, -5.051199913024902, -3.8958001136779785, -4.830599784851074, -5.049799919128418, -5.051199913024902, -4.439799785614014, -5.418000221252441, -5.056700229644775, -4.707300186157227, -5.056000232696533, -3.8215999603271484, -4.055799961090088, -4.202099800109863, -4.374899864196777, -4.582399845123291, -4.845200061798096, -4.853899955749512, -4.853899955749512, -4.083000183105469, -5.2006001472473145, -5.200699806213379, -5.200900077819824, -5.200900077819824, -5.204500198364258, -5.204500198364258, -5.286099910736084, -4.82859992980957, -5.76039981842041, -5.76039981842041, -5.76039981842041, -5.76039981842041, -5.76039981842041, -5.76039981842041, -5.76039981842041, -5.76039981842041, -5.76039981842041, -5.76039981842041, -5.76039981842041, -5.76039981842041, -5.76039981842041, -3.777100086212158, -4.2118000984191895, -4.582600116729736, -3.7564001083374023, -4.3607001304626465, -4.595799922943115, -4.6006999015808105, -3.8638999462127686, -4.83489990234375, -5.186699867248535, -5.189000129699707, -5.19320011138916, -5.224599838256836, -4.495999813079834, -4.843500137329102, -4.518599987030029, -5.160799980163574, -5.186800003051758, -5.196199893951416], \"loglift\": [30.0, 29.0, 28.0, 27.0, 26.0, 25.0, 24.0, 23.0, 22.0, 21.0, 20.0, 19.0, 18.0, 17.0, 16.0, 15.0, 14.0, 13.0, 12.0, 11.0, 10.0, 9.0, 8.0, 7.0, 6.0, 5.0, 4.0, 3.0, 2.0, 1.0, 0.9108, 0.9038, 0.8625, 0.8291, 0.8246, 0.8244, 0.8228, 0.7952, 0.7758, 0.7603, 0.7578, 0.7578, 0.7577, 0.7574, 0.7574, 0.7572, 0.7572, 0.7566, 0.7565, 0.7556, 0.7536, 0.7139, 0.694, 0.6184, 0.608, 0.608, 0.6079, 0.6079, 0.6079, 0.6078, 0.5962, 0.4687, 0.4906, 0.4628, 0.5441, 0.4848, 0.4823, 0.0986, 0.2212, -0.058, 0.0032, 0.1202, -0.0416, -0.0508, 0.2647, 0.4766, 1.1984, 1.1773, 1.1101, 1.06, 1.0487, 0.9777, 0.9776, 0.9775, 0.9774, 0.9766, 0.9762, 0.9761, 0.976, 0.9754, 0.8824, 0.8196, 0.8196, 0.8196, 0.8196, 0.8196, 0.8196, 0.8196, 0.8195, 0.8195, 0.8195, 0.8195, 0.8195, 0.8195, 0.8195, 0.8195, 0.8063, 0.645, 0.6986, 0.696, 0.6923, 0.6921, 0.6881, 0.6862, 0.6824, 0.3383, 0.3429, 0.4543, 0.453, -0.0247, 0.6096, 0.1219, -0.547, -0.0245, 0.9956, 0.9842, 0.9714, 0.9527, 0.9274, 0.8874, 0.8785, 0.8785, 0.8417, 0.8194, 0.8192, 0.8191, 0.8191, 0.8155, 0.8155, 0.735, 0.6844, 0.6643, 0.6643, 0.6643, 0.6642, 0.6642, 0.6642, 0.6642, 0.6642, 0.6642, 0.6642, 0.6642, 0.6642, 0.6642, 0.638, 0.5955, 0.596, 0.5182, 0.5513, 0.5683, 0.5633, 0.3702, 0.4823, 0.5383, 0.5359, 0.5317, 0.4996, -0.3356, 0.0612, -0.4133, 0.158, 0.3202, 0.3009]}, \"token.table\": {\"Topic\": [3, 1, 3, 2, 1, 3, 2, 3, 3, 2, 3, 2, 2, 1, 3, 1, 2, 1, 2, 2, 1, 1, 3, 2, 3, 2, 1, 2, 3, 3, 2, 1, 2, 1, 2, 3, 2, 3, 3, 2, 1, 2, 3, 2, 2, 2, 3, 1, 3, 1, 3, 1, 3, 2, 2, 2, 3, 1, 3, 3, 3, 1, 3, 1, 2, 3, 1, 2, 3, 2, 1, 1, 2, 3, 1, 1, 2, 3, 3, 1, 2, 3, 3, 1, 3, 1, 3, 1, 3, 2, 3, 2, 3, 2, 1, 1, 2, 2, 1, 1, 1, 3, 2, 3, 1, 3, 3, 1, 3, 1, 2, 3, 3, 1, 2, 3, 1, 3, 1, 1, 1, 1, 2, 2, 2, 1, 3, 2, 1, 3, 1, 3, 2, 3, 2, 2, 1, 3, 2, 2, 3, 3, 3, 1, 1, 1, 1, 3, 2, 3, 2, 3, 1, 3, 1, 1, 3, 1, 1, 2, 1, 2, 3, 1, 1, 3, 3, 1, 2, 3, 1, 3, 2, 2, 3, 1, 2, 1, 2, 3, 3, 2, 3, 1], \"Freq\": [1.0001929996658685, 0.3722986845309365, 0.744597369061873, 1.012105880473409, 0.4952519952468869, 0.4952519952468869, 0.5039331266294319, 0.5039331266294319, 1.0001361584033945, 0.5049959334527816, 0.5049959334527816, 0.756244125813894, 1.0121592734489757, 0.4249544875118205, 0.6374317312677308, 0.7376933448572308, 1.0121553625448154, 0.741757784744736, 0.370878892372368, 0.7562449431440481, 0.732747904430486, 0.5928912007954522, 0.5928912007954522, 1.0121631500605377, 0.9385362625502172, 0.7562441913104495, 0.9792191987126055, 0.7571513359381244, 0.3785756679690622, 1.0001382781072032, 0.7562438085580937, 0.5971134751914421, 0.5971134751914421, 0.3722138545932449, 0.3722138545932449, 0.18610692729662245, 0.9650271581179759, 1.0009398165107368, 0.7495152275243273, 0.7562449262936801, 0.375614114595228, 0.751228229190456, 0.7495164095092833, 1.012145048112731, 0.7562460076882997, 0.16726304167137682, 0.836315208356884, 0.733715753952951, 0.7495164041363777, 0.7376899347763193, 0.8580294842190619, 0.5889606704154006, 0.2944803352077003, 0.7562442835606464, 0.7605700440028349, 0.8464106301458247, 0.16928212602916495, 0.3722774078351963, 0.7445548156703926, 0.7495153719691959, 0.5006404954191043, 0.4249997049602462, 0.6374995574403693, 0.6230109505272113, 0.15575273763180283, 0.23362910644770424, 0.6634006508611869, 0.07371118342902076, 0.2211335502870623, 1.0121407433223757, 0.9792659586579788, 0.49359338965653693, 0.24679669482826846, 0.24679669482826846, 0.8350354613479607, 0.10047133663135761, 0.30141400989407285, 0.6028280197881457, 0.7495149779904232, 0.08384094426778288, 0.41920472133891445, 0.5030456656066973, 1.0001927123929728, 0.7347923245797404, 0.24493077485991346, 0.7386091788090545, 0.36930458940452726, 0.3720563365420752, 0.7441126730841504, 0.9482473230084308, 0.052680406833801714, 0.8316750574932211, 0.1386125095822035, 0.5043536007821634, 0.979193613158524, 0.3756304095656111, 0.7512608191312222, 1.0121308782348741, 0.9791961250358713, 0.9792051107344103, 0.7341488741502241, 0.14682977483004483, 0.7571521602331615, 0.3785760801165807, 0.9792201022875224, 0.7495165188020871, 0.7495153808405629, 0.7336467226536324, 0.7495149859603525, 0.4960807534634603, 0.24804037673173016, 0.4960807534634603, 0.9012265791138049, 0.8781208570022595, 0.43118466375847864, 0.646776995637718, 0.5927734002397953, 0.5927734002397953, 0.7376931996031988, 0.9791843275538092, 0.9791872114751099, 0.5971148475753386, 0.5971148475753386, 0.7562459327685537, 1.0121496354809443, 0.2974440801462145, 0.594888160292429, 0.5049832770987037, 0.3723157330101555, 0.744631466020311, 0.43650445709312347, 0.6111062399303728, 0.7562445052255853, 0.7495153332473682, 0.7562460195628067, 0.7562449559822745, 0.6557499768434611, 0.3278749884217306, 0.7562452726820347, 0.7572213756211164, 0.3786106878105582, 1.0001361433312135, 0.7501971661513136, 0.7376932973974377, 0.9791841649740308, 0.7327552864413054, 0.4919657716936872, 0.4919657716936872, 0.3012360946514741, 0.6024721893029482, 0.7562441540798311, 0.7495152516398066, 0.3302965451897925, 0.660593090379585, 0.7376900729694982, 0.9792881117728429, 0.750198029275063, 0.737693522802575, 0.7327835738652843, 1.012139284477421, 0.21451701023800476, 0.4290340204760095, 0.4290340204760095, 0.7339791895296325, 0.8789294150192706, 0.7495143581119793, 0.7495164316640258, 0.29941382805467415, 0.29941382805467415, 0.5988276561093483, 0.9736603474322042, 0.750369224293511, 0.7562460417759994, 0.7562440715294724, 1.00013490311422, 0.7417013872078486, 0.3708506936039243, 0.37557087585764093, 0.7511417517152819, 0.9007015910803219, 0.7495153549870784, 0.7572441261118374, 0.3786220630559187, 0.9792003642416288], \"Term\": [\"advice\", \"affecting\", \"affecting\", \"allowance\", \"american\", \"american\", \"analysis\", \"analysis\", \"area\", \"aspect\", \"aspect\", \"attitude\", \"biology\", \"birth\", \"birth\", \"blue\", \"canada\", \"catholic\", \"catholic\", \"census\", \"character\", \"characteristic\", \"characteristic\", \"clinic\", \"comment\", \"complaint\", \"confinement\", \"congress\", \"congress\", \"consanguineous\", \"consultation\", \"contribution\", \"contribution\", \"control\", \"control\", \"control\", \"counseling\", \"counselor\", \"cultural\", \"data\", \"deafness\", \"deafness\", \"denomination\", \"diabetes\", \"discussion\", \"disease\", \"disease\", \"distribution\", \"divorce\", \"ecumenical\", \"editorial\", \"effect\", \"effect\", \"epileptic\", \"eugenic\", \"eugenics\", \"eugenics\", \"evolution\", \"evolution\", \"examine\", \"eye\", \"factor\", \"factor\", \"family\", \"family\", \"family\", \"fertility\", \"fertility\", \"fertility\", \"first\", \"frequency\", \"future\", \"future\", \"future\", \"gene\", \"genetic\", \"genetic\", \"genetic\", \"geneticist\", \"genetics\", \"genetics\", \"genetics\", \"given\", \"group\", \"group\", \"health\", \"health\", \"hereditary\", \"hereditary\", \"heredity\", \"heredity\", \"human\", \"human\", \"i.\", \"ii\", \"implication\", \"implication\", \"improvement\", \"inbreeding\", \"inherited\", \"intelligence\", \"intelligence\", \"international\", \"international\", \"interval\", \"iowa\", \"issue\", \"japan\", \"major\", \"man\", \"man\", \"man\", \"marriage\", \"mating\", \"medical\", \"medical\", \"mental\", \"mental\", \"mountain\", \"mutation\", \"netherlands\", \"new\", \"new\", \"panel\", \"part\", \"pattern\", \"pattern\", \"perspective\", \"planning\", \"planning\", \"population\", \"population\", \"premarital\", \"presence\", \"presentation\", \"preventive\", \"problem\", \"problem\", \"proceeding\", \"prospect\", \"prospect\", \"public\", \"puerto\", \"question\", \"rate\", \"recent\", \"regulation\", \"regulation\", \"relation\", \"relation\", \"relative\", \"reproductive\", \"research\", \"research\", \"responsible\", \"review\", \"rico\", \"ridge\", \"schizophrenia\", \"service\", \"session\", \"session\", \"session\", \"size\", \"social\", \"sociologist\", \"statistical\", \"status\", \"status\", \"status\", \"study\", \"symposium\", \"tenminute\", \"toward\", \"treatment\", \"twin\", \"twin\", \"two\", \"two\", \"type\", \"underdeveloped\", \"western\", \"western\", \"woman\"]}, \"R\": 30, \"lambda.step\": 0.01, \"plot.opts\": {\"xlab\": \"PC1\", \"ylab\": \"PC2\"}, \"topic.order\": [1, 2, 3]};\n",
       "\n",
       "function LDAvis_load_lib(url, callback){\n",
       "  var s = document.createElement('script');\n",
       "  s.src = url;\n",
       "  s.async = true;\n",
       "  s.onreadystatechange = s.onload = callback;\n",
       "  s.onerror = function(){console.warn(\"failed to load library \" + url);};\n",
       "  document.getElementsByTagName(\"head\")[0].appendChild(s);\n",
       "}\n",
       "\n",
       "if(typeof(LDAvis) !== \"undefined\"){\n",
       "   // already loaded: just create the visualization\n",
       "   !function(LDAvis){\n",
       "       new LDAvis(\"#\" + \"ldavis_el7264150826002161305905955\", ldavis_el7264150826002161305905955_data);\n",
       "   }(LDAvis);\n",
       "}else if(typeof define === \"function\" && define.amd){\n",
       "   // require.js is available: use it to load d3/LDAvis\n",
       "   require.config({paths: {d3: \"https://cdnjs.cloudflare.com/ajax/libs/d3/3.5.5/d3.min\"}});\n",
       "   require([\"d3\"], function(d3){\n",
       "      window.d3 = d3;\n",
       "      LDAvis_load_lib(\"https://cdn.rawgit.com/bmabey/pyLDAvis/files/ldavis.v1.0.0.js\", function(){\n",
       "        new LDAvis(\"#\" + \"ldavis_el7264150826002161305905955\", ldavis_el7264150826002161305905955_data);\n",
       "      });\n",
       "    });\n",
       "}else{\n",
       "    // require.js not available: dynamically load d3 & LDAvis\n",
       "    LDAvis_load_lib(\"https://cdnjs.cloudflare.com/ajax/libs/d3/3.5.5/d3.min.js\", function(){\n",
       "         LDAvis_load_lib(\"https://cdn.rawgit.com/bmabey/pyLDAvis/files/ldavis.v1.0.0.js\", function(){\n",
       "                 new LDAvis(\"#\" + \"ldavis_el7264150826002161305905955\", ldavis_el7264150826002161305905955_data);\n",
       "            })\n",
       "         });\n",
       "}\n",
       "</script>"
      ],
      "text/plain": [
       "<IPython.core.display.HTML object>"
      ]
     },
     "execution_count": 13,
     "metadata": {},
     "output_type": "execute_result"
    }
   ],
   "source": [
    "import pyLDAvis.gensim\n",
    "lda_display = pyLDAvis.gensim.prepare(ldamodel1, corpus1, dictionary1, sort_topics=False)\n",
    "pyLDAvis.display(lda_display)"
   ]
  },
  {
   "cell_type": "code",
   "execution_count": 14,
   "metadata": {},
   "outputs": [
    {
     "data": {
      "text/html": [
       "\n",
       "<link rel=\"stylesheet\" type=\"text/css\" href=\"https://cdn.rawgit.com/bmabey/pyLDAvis/files/ldavis.v1.0.0.css\">\n",
       "\n",
       "\n",
       "<div id=\"ldavis_el7264150826008164407811402\"></div>\n",
       "<script type=\"text/javascript\">\n",
       "\n",
       "var ldavis_el7264150826008164407811402_data = {\"mdsDat\": {\"x\": [0.08004654785849571, -0.10285455942490902, 0.022808011566413263], \"y\": [-0.06955202315508677, -0.031680523246854865, 0.10123254640194158], \"topics\": [1, 2, 3], \"cluster\": [1, 1, 1], \"Freq\": [26.982074490808955, 35.254303723932665, 37.76362178525838]}, \"tinfo\": {\"Term\": [\"state\", \"genetics\", \"eugenics\", \"family\", \"united\", \"among\", \"publication\", \"new\", \"reply\", \"evolution\", \"medical\", \"marriage\", \"difference\", \"inbreeding\", \"group\", \"relation\", \"fertility\", \"indian\", \"counseling\", \"experiment\", \"michigan\", \"1951\\u00ad54\", \"arbor\", \"ann\", \"meeting\", \"schizophrenia\", \"natural\", \"society\", \"illness\", \"human\", \"reply\", \"evolution\", \"indian\", \"counseling\", \"experiment\", \"michigan\", \"1951\\u00ad54\", \"arbor\", \"ann\", \"new\", \"state\", \"jewish\", \"dynamic\", \"random\", \"socioeconomic\", \"letter\", \"editor\", \"pakistan\", \"male\", \"income\", \"infant\", \"occupation\", \"united\", \"comment\", \"inertia\", \"model\", \"stochastic\", \"cumulative\", \"internal\", \"residence\", \"inbreeding\", \"relation\", \"genetic\", \"factor\", \"schizophrenia\", \"concerning\", \"marriage\", \"fertility\", \"family\", \"unwanted\", \"planning\", \"mortality\", \"selection\", \"population\", \"eugenic\", \"status\", \"differential\", \"pattern\", \"eugenics\", \"society\", \"illness\", \"ethnic\", \"man\", \"survey\", \"1960\", \"third\", \"rural\", \"blood\", \"sample\", \"international\", \"census\", \"malformation\", \"congenital\", \"season\", \"different\", \"behavior\", \"stable\", \"relationship\", \"life\", \"science\", \"view\", \"psychiatry\", \"application\", \"neurology\", \"birthorder\", \"characteristic\", \"summary\", \"annual\", \"group\", \"sex\", \"natural\", \"american\", \"demography\", \"fertility\", \"intermarriage\", \"princeton\", \"birth\", \"1966\", \"child\", \"differential\", \"population\", \"change\", \"social\", \"genetics\", \"data\", \"note\", \"mental\", \"rate\", \"human\", \"selection\", \"relation\", \"effect\", \"recent\", \"publication\", \"medical\", \"difference\", \"among\", \"colorblindness\", \"relaxation\", \"color\", \"conception\", \"taiwan\", \"vision\", \"ability\", \"mobility\", \"problem\", \"acuity\", \"progress\", \"blindness\", \"france\", \"korean\", \"student\", \"course\", \"japanese\", \"red\", \"deficiency\", \"small\", \"regent\", \"green\", \"query\", \"jew\", \"adaptation\", \"communication\", \"review\", \"meeting\", \"genetics\", \"family\", \"population\", \"human\", \"note\", \"race\", \"recent\", \"planning\", \"study\", \"selection\", \"age\", \"mental\", \"report\", \"unwanted\", \"marriage\", \"sterilization\", \"program\", \"size\", \"fertility\", \"schizophrenia\", \"pregnancy\"], \"Freq\": [9.0, 15.0, 6.0, 11.0, 7.0, 8.0, 5.0, 3.0, 3.0, 3.0, 4.0, 6.0, 4.0, 4.0, 6.0, 5.0, 18.0, 2.0, 2.0, 2.0, 2.0, 2.0, 2.0, 2.0, 6.0, 5.0, 5.0, 3.0, 3.0, 9.0, 2.7582089349311745, 2.7434656495598113, 2.1217402188431613, 2.121731656759498, 2.1200738816880174, 2.1198450405428324, 2.1197933566923552, 2.1197751428052896, 2.1197480554860633, 3.142220878022179, 6.936364410447796, 1.4851623751070022, 1.4849592202128072, 1.4847481259319426, 1.4845701902659925, 1.4843415047950559, 1.4843315416431566, 1.4832385527449627, 1.4830469177451513, 1.4819302663611968, 1.4664651194998854, 1.4627770408804424, 5.473763125793826, 2.164144638720217, 0.8486600333813293, 0.8486428313768783, 0.848637616289556, 0.8486333352477243, 0.8486249288383094, 0.8486231385844525, 2.8201703992894, 2.776446173134195, 2.1290126970325964, 1.5065828403418222, 2.666006502422354, 1.503303562298744, 3.0360074518065874, 6.322121773830204, 3.4439502630625176, 2.119989506245371, 2.209995686457408, 1.829831543764731, 2.0703770573177285, 2.3831507519125976, 1.4995040209174286, 1.4967507661597792, 1.5140506897130308, 1.5015777575807014, 5.724739516382056, 2.972244460354934, 2.9660262812431584, 2.934560924013259, 2.9265471188114387, 2.292817624592953, 2.2884717538362818, 1.604928585609724, 1.6049144492239902, 1.6049079403845157, 1.6048806846192158, 1.604810816295481, 1.6047643391136082, 1.60461758512358, 1.6045870749385431, 1.6045868715373095, 1.6045688705281376, 1.6045274783771042, 1.6045329702104107, 1.604521172938863, 1.604500426013038, 1.6044720515409536, 1.604421913136876, 1.6042812611838555, 1.6042343771995153, 1.6042219697242668, 1.6042271564557231, 1.6040943354501953, 1.6040600623423371, 1.603041530665185, 5.055222795522561, 3.0215635642635563, 3.695101934313395, 3.703992195430712, 3.115034770544166, 8.701442124974598, 1.9892431140858304, 3.0037352427390314, 3.7439186371750743, 2.3045040424682948, 2.835132909206024, 2.6162200941519256, 5.862238750282169, 2.305743976388199, 2.3017646346544387, 4.586887793982291, 2.3009597759731624, 3.0000894790283423, 2.624819694906457, 2.3199983348374884, 2.9904397177048376, 2.991676193803771, 2.234411773975376, 2.3002395322050555, 2.294822347151118, 4.978052891314219, 4.290004110792459, 3.620284606650752, 7.054815289978496, 2.9416418740880452, 2.9412383624524527, 2.9412143957786325, 2.2625344059320778, 2.2622119452297684, 2.2620788212506393, 1.58398514339727, 1.5837306608970692, 1.5836846884591047, 1.5836624648161077, 1.5836378445057289, 1.5836315260189944, 1.5836205231369223, 1.5836078861634535, 1.5835467711452116, 1.5835378381122422, 1.583195550434318, 1.5831555696648087, 1.5830686360024968, 1.5829651435473637, 1.5829590429394822, 1.5829235286864576, 1.582861433213378, 1.5827901868284757, 1.581919651871667, 1.5798624397424743, 4.07892307809158, 4.996571286538598, 10.861611166844979, 8.289777902229092, 12.723292712826623, 6.1364877352680995, 4.9358109750693995, 2.9810611697933935, 3.6187886504466604, 3.5252112082730447, 3.8360400122619995, 5.0250423877639845, 2.253185224353636, 3.293305314810863, 2.991159854625852, 2.9443819185422635, 3.3256402796137863, 2.260035989125739, 2.2722642218665565, 2.056024907322992, 3.683010185373215, 2.3611888611362426, 2.2907416558665883], \"Total\": [9.0, 15.0, 6.0, 11.0, 7.0, 8.0, 5.0, 3.0, 3.0, 3.0, 4.0, 6.0, 4.0, 4.0, 6.0, 5.0, 18.0, 2.0, 2.0, 2.0, 2.0, 2.0, 2.0, 2.0, 6.0, 5.0, 5.0, 3.0, 3.0, 9.0, 3.2149357520251134, 3.216029187852543, 2.5781753496984106, 2.5781744851413135, 2.578307366889825, 2.578301190024043, 2.5783046024205465, 2.5783056589051996, 2.5783071840494327, 3.8705274948197577, 9.06028398084052, 1.9414184277858126, 1.9414317838968989, 1.9414442655696318, 1.9414639805883924, 1.9414685196877774, 1.9414695324802074, 1.9415733322951532, 1.9415586419959336, 1.9416386141617714, 1.9428930257535666, 1.9431433236999291, 7.800304303629025, 3.254354777711488, 1.3046568741102638, 1.304658032465177, 1.3046582065843286, 1.3046586875531025, 1.304659108320713, 1.3046593610713964, 4.568888766855038, 5.276907962429829, 3.9535371145729457, 2.6189956047409337, 5.258200432799336, 2.6192116469143274, 6.591748885579085, 18.706574084178015, 11.997589118870465, 5.294497597298076, 5.967610042350206, 3.977628151445867, 10.087095638885483, 20.96868221502139, 2.619464727532839, 2.6196579831477784, 4.686659295391513, 4.677893393268606, 6.171550330763046, 3.419637067914873, 3.419654655173149, 3.4179349256486775, 3.41585631400979, 2.7318830733015913, 2.731780672679148, 2.043880986961574, 2.0438779284373876, 2.043878434346914, 2.043876690086794, 2.0438741617552703, 2.043871764653041, 2.0438645849975625, 2.0438628796388962, 2.043863868997604, 2.0438710046556716, 2.043858255812099, 2.043868440000988, 2.0438678015896743, 2.0438530070541514, 2.0438565931866997, 2.0438662922495907, 2.043846628544976, 2.04384462416042, 2.043843732834162, 2.0438516155653783, 2.0438196153864427, 2.0438235735342167, 2.043748543567535, 6.826216651960481, 4.059936179860251, 5.3833241592129735, 5.466242080194552, 4.779623459879829, 18.706574084178015, 2.7275220793622834, 4.778170932178053, 6.781216767492346, 3.411024631361073, 4.72199015292656, 4.686659295391513, 20.96868221502139, 4.090084475607139, 4.089988440163918, 15.66371115637056, 4.09001781424198, 8.171961537413477, 6.131406805661574, 4.727246875048668, 9.519545185272577, 10.087095638885483, 5.276907962429829, 6.0427261586647845, 6.127103051073812, 5.421291195784958, 4.741681359772894, 4.063145544243731, 8.099716354204153, 3.384114745734886, 3.384075745634395, 3.384078725250147, 2.7050431658464027, 2.7050226569151157, 2.7050031785571207, 2.025995688303489, 2.0259874392370083, 2.025982819843386, 2.0259797851769568, 2.0259859117144043, 2.0259813853447315, 2.025990671571191, 2.0259821008214987, 2.0259763070146866, 2.0259800619366835, 2.025957879097965, 2.0259421573520666, 2.025936852969791, 2.025944746804575, 2.0259587221538817, 2.0259275104610666, 2.0259239122182424, 2.0259672563554023, 2.0259947725406064, 2.025914173273912, 5.432979927292278, 6.79684451637764, 15.66371115637056, 11.997589118870465, 20.96868221502139, 9.519545185272577, 8.171961537413477, 4.709410097002286, 6.127103051073812, 5.967610042350206, 6.725003313716501, 10.087095638885483, 3.3922975064521084, 6.131406805661574, 5.346126739325216, 5.294497597298076, 6.591748885579085, 3.978375962649708, 4.031562112787762, 3.345233418568242, 18.706574084178015, 5.258200432799336, 4.665427557055572], \"Category\": [\"Default\", \"Default\", \"Default\", \"Default\", \"Default\", \"Default\", \"Default\", \"Default\", \"Default\", \"Default\", \"Default\", \"Default\", \"Default\", \"Default\", \"Default\", \"Default\", \"Default\", \"Default\", \"Default\", \"Default\", \"Default\", \"Default\", \"Default\", \"Default\", \"Default\", \"Default\", \"Default\", \"Default\", \"Default\", \"Default\", \"Topic1\", \"Topic1\", \"Topic1\", \"Topic1\", \"Topic1\", \"Topic1\", \"Topic1\", \"Topic1\", \"Topic1\", \"Topic1\", \"Topic1\", \"Topic1\", \"Topic1\", \"Topic1\", \"Topic1\", \"Topic1\", \"Topic1\", \"Topic1\", \"Topic1\", \"Topic1\", \"Topic1\", \"Topic1\", \"Topic1\", \"Topic1\", \"Topic1\", \"Topic1\", \"Topic1\", \"Topic1\", \"Topic1\", \"Topic1\", \"Topic1\", \"Topic1\", \"Topic1\", \"Topic1\", \"Topic1\", \"Topic1\", \"Topic1\", \"Topic1\", \"Topic1\", \"Topic1\", \"Topic1\", \"Topic1\", \"Topic1\", \"Topic1\", \"Topic1\", \"Topic1\", \"Topic1\", \"Topic1\", \"Topic2\", \"Topic2\", \"Topic2\", \"Topic2\", \"Topic2\", \"Topic2\", \"Topic2\", \"Topic2\", \"Topic2\", \"Topic2\", \"Topic2\", \"Topic2\", \"Topic2\", \"Topic2\", \"Topic2\", \"Topic2\", \"Topic2\", \"Topic2\", \"Topic2\", \"Topic2\", \"Topic2\", \"Topic2\", \"Topic2\", \"Topic2\", \"Topic2\", \"Topic2\", \"Topic2\", \"Topic2\", \"Topic2\", \"Topic2\", \"Topic2\", \"Topic2\", \"Topic2\", \"Topic2\", \"Topic2\", \"Topic2\", \"Topic2\", \"Topic2\", \"Topic2\", \"Topic2\", \"Topic2\", \"Topic2\", \"Topic2\", \"Topic2\", \"Topic2\", \"Topic2\", \"Topic2\", \"Topic2\", \"Topic2\", \"Topic2\", \"Topic2\", \"Topic2\", \"Topic2\", \"Topic2\", \"Topic2\", \"Topic3\", \"Topic3\", \"Topic3\", \"Topic3\", \"Topic3\", \"Topic3\", \"Topic3\", \"Topic3\", \"Topic3\", \"Topic3\", \"Topic3\", \"Topic3\", \"Topic3\", \"Topic3\", \"Topic3\", \"Topic3\", \"Topic3\", \"Topic3\", \"Topic3\", \"Topic3\", \"Topic3\", \"Topic3\", \"Topic3\", \"Topic3\", \"Topic3\", \"Topic3\", \"Topic3\", \"Topic3\", \"Topic3\", \"Topic3\", \"Topic3\", \"Topic3\", \"Topic3\", \"Topic3\", \"Topic3\", \"Topic3\", \"Topic3\", \"Topic3\", \"Topic3\", \"Topic3\", \"Topic3\", \"Topic3\", \"Topic3\", \"Topic3\", \"Topic3\", \"Topic3\", \"Topic3\", \"Topic3\", \"Topic3\", \"Topic3\", \"Topic3\", \"Topic3\", \"Topic3\"], \"logprob\": [30.0, 29.0, 28.0, 27.0, 26.0, 25.0, 24.0, 23.0, 22.0, 21.0, 20.0, 19.0, 18.0, 17.0, 16.0, 15.0, 14.0, 13.0, 12.0, 11.0, 10.0, 9.0, 8.0, 7.0, 6.0, 5.0, 4.0, 3.0, 2.0, 1.0, -4.797500133514404, -4.802800178527832, -5.059800148010254, -5.059800148010254, -5.0605998039245605, -5.060699939727783, -5.060699939727783, -5.060800075531006, -5.060800075531006, -4.667099952697754, -3.8752999305725098, -5.416500091552734, -5.4166998863220215, -5.416800022125244, -5.416900157928467, -5.417099952697754, -5.417099952697754, -5.417799949645996, -5.418000221252441, -5.418700218200684, -5.429200172424316, -5.431700229644775, -4.112100124359131, -5.039999961853027, -5.976200103759766, -5.976200103759766, -5.976200103759766, -5.976200103759766, -5.976200103759766, -5.976200103759766, -4.775300025939941, -4.790900230407715, -5.056399822235107, -5.402200222015381, -4.831500053405762, -5.404399871826172, -4.701499938964844, -3.9679999351501465, -4.575399875640869, -5.060699939727783, -5.019100189208984, -5.207799911499023, -5.0843000411987305, -4.943600177764893, -5.406899929046631, -5.40880012512207, -5.397299766540527, -5.4054999351501465, -4.334700107574463, -4.990200042724609, -4.992300033569336, -5.002900123596191, -5.00570011138916, -5.24970006942749, -5.2515997886657715, -5.606400012969971, -5.606400012969971, -5.606400012969971, -5.606400012969971, -5.606500148773193, -5.606500148773193, -5.606599807739258, -5.606599807739258, -5.606599807739258, -5.606599807739258, -5.606599807739258, -5.606599807739258, -5.6066999435424805, -5.6066999435424805, -5.6066999435424805, -5.6066999435424805, -5.606800079345703, -5.606800079345703, -5.606800079345703, -5.606800079345703, -5.606900215148926, -5.606900215148926, -5.607600212097168, -4.459099769592285, -4.973700046539307, -4.772500038146973, -4.770100116729736, -4.94320011138916, -3.9159998893737793, -5.39169979095459, -4.979599952697754, -4.759300231933594, -5.24459981918335, -5.037399768829346, -5.117700099945068, -4.3109002113342285, -5.244100093841553, -5.245800018310547, -4.556300163269043, -5.246200084686279, -4.980800151824951, -5.114500045776367, -5.2378997802734375, -4.984099864959717, -4.98360013961792, -5.2754998207092285, -5.246500015258789, -5.248799800872803, -4.5432000160217285, -4.69189977645874, -4.861700057983398, -4.194499969482422, -5.069300174713135, -5.069399833679199, -5.069399833679199, -5.3317999839782715, -5.331900119781494, -5.331999778747559, -5.688300132751465, -5.688499927520752, -5.688499927520752, -5.688499927520752, -5.688499927520752, -5.688499927520752, -5.688499927520752, -5.688499927520752, -5.688600063323975, -5.688600063323975, -5.688799858093262, -5.688799858093262, -5.688899993896484, -5.688899993896484, -5.688899993896484, -5.689000129699707, -5.689000129699707, -5.689000129699707, -5.689599990844727, -5.690899848937988, -4.742400169372559, -4.5395002365112305, -3.763000011444092, -4.033199787139893, -3.60479998588562, -4.334000110626221, -4.551700115203857, -5.056000232696533, -4.862100124359131, -4.888299942016602, -4.803800106048584, -4.53380012512207, -5.335899829864502, -4.956299781799316, -5.052599906921387, -5.068299770355225, -4.946599960327148, -5.332900047302246, -5.327499866485596, -5.427499771118164, -4.8445000648498535, -5.289100170135498, -5.319399833679199], \"loglift\": [30.0, 29.0, 28.0, 27.0, 26.0, 25.0, 24.0, 23.0, 22.0, 21.0, 20.0, 19.0, 18.0, 17.0, 16.0, 15.0, 14.0, 13.0, 12.0, 11.0, 10.0, 9.0, 8.0, 7.0, 6.0, 5.0, 4.0, 3.0, 2.0, 1.0, 1.1568, 1.1511, 1.1152, 1.1151, 1.1143, 1.1142, 1.1142, 1.1142, 1.1142, 1.1015, 1.0429, 1.0421, 1.042, 1.0418, 1.0417, 1.0415, 1.0415, 1.0407, 1.0406, 1.0398, 1.0287, 1.026, 0.9558, 0.902, 0.88, 0.8799, 0.8799, 0.8799, 0.8799, 0.8799, 0.8275, 0.6678, 0.691, 0.7571, 0.6308, 0.7548, 0.5347, 0.2252, 0.0619, 0.3947, 0.3166, 0.5335, -0.2735, -0.8646, 0.7522, 0.7503, 0.1801, 0.1737, 0.9674, 0.9024, 0.9003, 0.8901, 0.888, 0.8674, 0.8655, 0.8008, 0.8008, 0.8008, 0.8008, 0.8007, 0.8007, 0.8006, 0.8006, 0.8006, 0.8006, 0.8006, 0.8006, 0.8006, 0.8006, 0.8005, 0.8005, 0.8004, 0.8004, 0.8004, 0.8004, 0.8003, 0.8003, 0.7997, 0.7422, 0.7472, 0.6663, 0.6534, 0.6145, 0.2772, 0.7269, 0.5784, 0.4486, 0.6504, 0.5324, 0.4596, -0.2319, 0.4694, 0.4677, -0.1856, 0.4674, 0.0405, 0.1942, 0.3308, -0.1153, -0.1728, 0.1832, 0.0767, 0.0605, 0.8885, 0.8737, 0.8584, 0.8357, 0.8337, 0.8336, 0.8336, 0.7952, 0.7951, 0.795, 0.7277, 0.7275, 0.7275, 0.7275, 0.7275, 0.7275, 0.7275, 0.7275, 0.7274, 0.7274, 0.7272, 0.7272, 0.7272, 0.7271, 0.7271, 0.7271, 0.727, 0.727, 0.7264, 0.7251, 0.6872, 0.6661, 0.6077, 0.6041, 0.4742, 0.5347, 0.4696, 0.5165, 0.4472, 0.4474, 0.4124, 0.277, 0.5647, 0.3523, 0.3931, 0.3871, 0.2897, 0.4083, 0.4004, 0.4871, -0.6513, 0.1732, 0.2625]}, \"token.table\": {\"Topic\": [1, 2, 2, 3, 3, 3, 3, 2, 3, 2, 3, 1, 3, 1, 2, 2, 1, 2, 1, 2, 3, 2, 3, 2, 2, 2, 3, 2, 1, 2, 3, 3, 3, 1, 3, 3, 3, 1, 3, 2, 1, 3, 1, 2, 3, 3, 2, 3, 3, 2, 1, 2, 3, 1, 1, 1, 2, 3, 2, 1, 3, 2, 1, 1, 1, 3, 1, 3, 1, 2, 3, 3, 1, 2, 2, 3, 3, 2, 3, 2, 3, 2, 1, 3, 1, 1, 1, 1, 2, 3, 1, 2, 3, 3, 1, 3, 1, 2, 1, 2, 2, 1, 3, 3, 2, 3, 2, 3, 1, 3, 1, 1, 2, 1, 2, 2, 1, 2, 3, 1, 1, 1, 2, 3, 1, 3, 1, 2, 3, 1, 2, 3, 2, 3, 3, 1, 2, 3, 3, 2, 3, 3, 1, 2, 3, 1, 1, 2, 3, 2, 3, 3, 3, 1, 2, 2, 3, 1, 1, 2, 3, 1, 2, 3, 2, 2, 1, 3, 2, 2, 1, 2, 3, 1, 2, 1, 3, 3, 2, 3, 2, 1, 2, 1, 2, 3, 1, 3, 1, 3, 1, 3, 1, 2, 3, 2, 2, 3, 2, 1, 2, 3, 1, 3, 2, 3], \"Freq\": [0.7757035371702682, 0.732123197152037, 0.5863340831994979, 0.29316704159974893, 0.9871689320695164, 0.9871766809486268, 0.9871693782763274, 0.294785465631482, 0.589570931262964, 0.7317641519194543, 0.36588207595972716, 0.1234611134846655, 0.8642277943926585, 0.7757027604673714, 0.9785939695442336, 0.9785479661016646, 0.7757032193185506, 0.978541439609435, 0.14746616046751063, 0.5898646418700425, 0.29493232093502125, 0.9785446187818053, 0.9871759012532533, 0.9785317787939113, 0.9785349720017837, 0.4889874553759961, 0.4889874553759961, 0.97855993990049, 0.21177511337676708, 0.6353253401303013, 0.21177511337676708, 0.8865041990943173, 0.8864947631521659, 0.6145611454834776, 0.3072805727417388, 0.987208651967702, 0.739359735641854, 0.7635885409856756, 0.3817942704928378, 0.9785392258571447, 0.7757426859688967, 0.9871765460950053, 0.76648399274105, 0.488995425163122, 0.488995425163122, 0.9871976004919548, 0.6276645064578846, 0.20922150215262822, 0.9844589509393308, 0.9785353358623224, 0.42674320319521425, 0.6401148047928213, 0.21337160159760712, 0.5150837687393635, 0.5150737538088018, 0.1654882206710758, 0.3309764413421516, 0.3309764413421516, 0.8777229716948578, 0.38175738328870606, 0.38175738328870606, 0.9722030411211382, 0.9328273547178862, 0.7757027054584928, 0.7636515297618593, 0.3818257648809297, 0.250050236783108, 0.6668006314216214, 0.32074285612108894, 0.4811142841816334, 0.21382857074739262, 0.9871713764846535, 0.5058761160045506, 0.5058761160045506, 0.31920915484747425, 0.7022601406644433, 0.9872021529264066, 0.7324701595229923, 0.14649403190459848, 0.3151411061781834, 0.6302822123563668, 0.8772815686115238, 0.6566148035302309, 0.4377432023534873, 0.5150289001806404, 0.7757424258338191, 0.7664850581360478, 0.5146963763546076, 0.7332662914566089, 0.36663314572830447, 0.7664837455411215, 0.9785338243536523, 0.9871873549959871, 0.9871827857661847, 0.5150873122907872, 0.9871755526315048, 0.515074022503758, 0.97854395257252, 0.5150501140526944, 0.9785384093840959, 0.8782570823297815, 0.4551144244228063, 0.4551144244228063, 0.8435826232304194, 0.29425419327760266, 0.7356354831940066, 0.48928412272855254, 0.48928412272855254, 0.775704563818376, 0.9871729514538377, 0.7664843776039, 0.5028122096513723, 0.5028122096513723, 0.18575883049669392, 0.7430353219867757, 0.9785483928493082, 0.7750881511667711, 0.3671089231471757, 0.6118482052452928, 0.5146300778760391, 0.5150462170892562, 0.4275428770732483, 0.4275428770732483, 0.21377143853662414, 0.33514254212434197, 0.6702850842486839, 0.09538033813909655, 0.2861410144172896, 0.6199721979041276, 0.2143426272877585, 0.2143426272877585, 0.428685254575517, 0.6278553117044932, 0.4185702078029954, 0.9871752022826163, 0.24804281120414529, 0.24804281120414529, 0.49608562240829057, 0.9871736957477583, 0.9785470064472546, 0.9222895099026389, 0.9872039062958403, 0.212340819636102, 0.212340819636102, 0.6370224589083059, 0.515080457231974, 0.21153961839357177, 0.42307923678714354, 0.42307923678714354, 0.32641853471837523, 0.6528370694367505, 0.9871950157817075, 0.9871869442007762, 0.56851474790904, 0.37900983193936, 0.9785368693828657, 0.8865049796447761, 0.9331446197984754, 0.18705130812634255, 0.18705130812634255, 0.5611539243790277, 0.7664835970507982, 0.18406105183208107, 0.7362442073283243, 0.9785320210043397, 0.9785326138804731, 0.5705373993137941, 0.38035826620919605, 0.978542235628029, 0.9785387521825919, 0.19827312752840903, 0.2974096912926136, 0.4956828188210226, 0.24630929051560155, 0.7389278715468046, 0.29893280225210694, 0.5978656045042139, 0.9871937540026714, 0.48899893710209225, 0.48899893710209225, 0.8772860804872643, 0.515075226735308, 0.9785365637325626, 0.7726027147496333, 0.11037181639280476, 0.11037181639280476, 0.3817292205444319, 0.3817292205444319, 0.25135884828088806, 0.5027176965617761, 0.7664842753092079, 0.987178375717057, 0.14869881148762748, 0.29739762297525496, 0.5947952459505099, 0.9785580447834662, 0.7320957545898621, 0.7393653413169029, 0.9785305566999734, 0.6410006334847466, 0.12820012669694933, 0.12820012669694933, 0.37775066722490414, 0.5666260008373563, 0.9785375920059286, 0.7393706653856217], \"Term\": [\"1951\\u00ad54\", \"1960\", \"1966\", \"1966\", \"ability\", \"acuity\", \"adaptation\", \"age\", \"age\", \"american\", \"american\", \"among\", \"among\", \"ann\", \"annual\", \"application\", \"arbor\", \"behavior\", \"birth\", \"birth\", \"birth\", \"birthorder\", \"blindness\", \"blood\", \"census\", \"change\", \"change\", \"characteristic\", \"child\", \"child\", \"child\", \"color\", \"colorblindness\", \"comment\", \"comment\", \"communication\", \"conception\", \"concerning\", \"concerning\", \"congenital\", \"counseling\", \"course\", \"cumulative\", \"data\", \"data\", \"deficiency\", \"demography\", \"demography\", \"difference\", \"different\", \"differential\", \"differential\", \"differential\", \"dynamic\", \"editor\", \"effect\", \"effect\", \"effect\", \"ethnic\", \"eugenic\", \"eugenic\", \"eugenics\", \"evolution\", \"experiment\", \"factor\", \"factor\", \"family\", \"family\", \"fertility\", \"fertility\", \"fertility\", \"france\", \"genetic\", \"genetic\", \"genetics\", \"genetics\", \"green\", \"group\", \"group\", \"human\", \"human\", \"illness\", \"inbreeding\", \"inbreeding\", \"income\", \"indian\", \"inertia\", \"infant\", \"intermarriage\", \"intermarriage\", \"internal\", \"international\", \"japanese\", \"jew\", \"jewish\", \"korean\", \"letter\", \"life\", \"male\", \"malformation\", \"man\", \"marriage\", \"marriage\", \"medical\", \"meeting\", \"meeting\", \"mental\", \"mental\", \"michigan\", \"mobility\", \"model\", \"mortality\", \"mortality\", \"natural\", \"natural\", \"neurology\", \"new\", \"note\", \"note\", \"occupation\", \"pakistan\", \"pattern\", \"pattern\", \"pattern\", \"planning\", \"planning\", \"population\", \"population\", \"population\", \"pregnancy\", \"pregnancy\", \"pregnancy\", \"princeton\", \"princeton\", \"problem\", \"program\", \"program\", \"program\", \"progress\", \"psychiatry\", \"publication\", \"query\", \"race\", \"race\", \"race\", \"random\", \"rate\", \"rate\", \"rate\", \"recent\", \"recent\", \"red\", \"regent\", \"relation\", \"relation\", \"relationship\", \"relaxation\", \"reply\", \"report\", \"report\", \"report\", \"residence\", \"review\", \"review\", \"rural\", \"sample\", \"schizophrenia\", \"schizophrenia\", \"science\", \"season\", \"selection\", \"selection\", \"selection\", \"sex\", \"sex\", \"size\", \"size\", \"small\", \"social\", \"social\", \"society\", \"socioeconomic\", \"stable\", \"state\", \"state\", \"state\", \"status\", \"status\", \"sterilization\", \"sterilization\", \"stochastic\", \"student\", \"study\", \"study\", \"study\", \"summary\", \"survey\", \"taiwan\", \"third\", \"united\", \"united\", \"united\", \"unwanted\", \"unwanted\", \"view\", \"vision\"]}, \"R\": 30, \"lambda.step\": 0.01, \"plot.opts\": {\"xlab\": \"PC1\", \"ylab\": \"PC2\"}, \"topic.order\": [1, 2, 3]};\n",
       "\n",
       "function LDAvis_load_lib(url, callback){\n",
       "  var s = document.createElement('script');\n",
       "  s.src = url;\n",
       "  s.async = true;\n",
       "  s.onreadystatechange = s.onload = callback;\n",
       "  s.onerror = function(){console.warn(\"failed to load library \" + url);};\n",
       "  document.getElementsByTagName(\"head\")[0].appendChild(s);\n",
       "}\n",
       "\n",
       "if(typeof(LDAvis) !== \"undefined\"){\n",
       "   // already loaded: just create the visualization\n",
       "   !function(LDAvis){\n",
       "       new LDAvis(\"#\" + \"ldavis_el7264150826008164407811402\", ldavis_el7264150826008164407811402_data);\n",
       "   }(LDAvis);\n",
       "}else if(typeof define === \"function\" && define.amd){\n",
       "   // require.js is available: use it to load d3/LDAvis\n",
       "   require.config({paths: {d3: \"https://cdnjs.cloudflare.com/ajax/libs/d3/3.5.5/d3.min\"}});\n",
       "   require([\"d3\"], function(d3){\n",
       "      window.d3 = d3;\n",
       "      LDAvis_load_lib(\"https://cdn.rawgit.com/bmabey/pyLDAvis/files/ldavis.v1.0.0.js\", function(){\n",
       "        new LDAvis(\"#\" + \"ldavis_el7264150826008164407811402\", ldavis_el7264150826008164407811402_data);\n",
       "      });\n",
       "    });\n",
       "}else{\n",
       "    // require.js not available: dynamically load d3 & LDAvis\n",
       "    LDAvis_load_lib(\"https://cdnjs.cloudflare.com/ajax/libs/d3/3.5.5/d3.min.js\", function(){\n",
       "         LDAvis_load_lib(\"https://cdn.rawgit.com/bmabey/pyLDAvis/files/ldavis.v1.0.0.js\", function(){\n",
       "                 new LDAvis(\"#\" + \"ldavis_el7264150826008164407811402\", ldavis_el7264150826008164407811402_data);\n",
       "            })\n",
       "         });\n",
       "}\n",
       "</script>"
      ],
      "text/plain": [
       "<IPython.core.display.HTML object>"
      ]
     },
     "execution_count": 14,
     "metadata": {},
     "output_type": "execute_result"
    }
   ],
   "source": [
    "lda_display = pyLDAvis.gensim.prepare(ldamodel2, corpus2, dictionary2, sort_topics=False)\n",
    "pyLDAvis.display(lda_display)"
   ]
  },
  {
   "cell_type": "code",
   "execution_count": null,
   "metadata": {},
   "outputs": [],
   "source": []
  }
 ],
 "metadata": {
  "colab": {
   "collapsed_sections": [
    "y5QtFOjkM8Ji",
    "v_HvvY4g3GYN",
    "txhs4VDD7ioc",
    "7k7UGSAq595X",
    "on6nRXCroW2T",
    "lsiCPue6I-92",
    "kWFYX5dXL8lc",
    "9HO2O1RD_jwo",
    "D7vO5aHHnrsZ",
    "WTHlfZnDIAok",
    "YCACkpKmTsD6"
   ],
   "name": "ECS189L_Discussion_8.ipynb",
   "provenance": []
  },
  "kernelspec": {
   "display_name": "Python 3",
   "language": "python",
   "name": "python3"
  },
  "language_info": {
   "codemirror_mode": {
    "name": "ipython",
    "version": 3
   },
   "file_extension": ".py",
   "mimetype": "text/x-python",
   "name": "python",
   "nbconvert_exporter": "python",
   "pygments_lexer": "ipython3",
   "version": "3.6.4"
  }
 },
 "nbformat": 4,
 "nbformat_minor": 1
}
