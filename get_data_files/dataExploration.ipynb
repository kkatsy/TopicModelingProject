{
 "cells": [
  {
   "cell_type": "markdown",
   "metadata": {},
   "source": [
    "# Data Exploration for Eugenics Articles\n",
    "\n",
    "The goal of this notebook is better understand our data set. "
   ]
  },
  {
   "cell_type": "code",
   "execution_count": 1,
   "metadata": {},
   "outputs": [],
   "source": [
    "# import required libraries\n",
    "\n",
    "import json\n",
    "import pandas as pd"
   ]
  },
  {
   "cell_type": "markdown",
   "metadata": {},
   "source": [
    "## json files\n",
    "\n",
    "First, we will take a look at the json files for each publisher. "
   ]
  },
  {
   "cell_type": "code",
   "execution_count": 35,
   "metadata": {
    "scrolled": true
   },
   "outputs": [
    {
     "name": "stdout",
     "output_type": "stream",
     "text": [
      "     year volume issue                                                url  \\\n",
      "0    1954      1     0  http://tandfonline.com.proxy.lib.umich.edu/doi...   \n",
      "1    1954      1     0  http://tandfonline.com.proxy.lib.umich.edu/doi...   \n",
      "2    1954      1     0  http://tandfonline.com.proxy.lib.umich.edu/doi...   \n",
      "3    1954      1     0  http://tandfonline.com.proxy.lib.umich.edu/doi...   \n",
      "4    1954      1     0  http://tandfonline.com.proxy.lib.umich.edu/doi...   \n",
      "..    ...    ...   ...                                                ...   \n",
      "967  1999     46   3-4  http://tandfonline.com.proxy.lib.umich.edu/doi...   \n",
      "968  1999     46   3-4  http://tandfonline.com.proxy.lib.umich.edu/doi...   \n",
      "969  1999     46   3-4  http://tandfonline.com.proxy.lib.umich.edu/doi...   \n",
      "970  1999     46   3-4  http://tandfonline.com.proxy.lib.umich.edu/doi...   \n",
      "971  1999     46   3-4  http://tandfonline.com.proxy.lib.umich.edu/doi...   \n",
      "\n",
      "                                                 title  \\\n",
      "0    Family allowances in great Britain, Canada, Au...   \n",
      "1    Marriage and family research a critical evalua...   \n",
      "2                      The origin and evolution of man   \n",
      "3                        Genetic studies of population   \n",
      "4                                 Heredity and the eye   \n",
      "..                                                 ...   \n",
      "967  The most frequently cited articles published i...   \n",
      "968  The founding of the behavior genetics associat...   \n",
      "969  First presidential addressbehavior genetics as...   \n",
      "970    The biological and social meaning of race, 1971   \n",
      "971  Interdisciplinary symposia published in social...   \n",
      "\n",
      "                                    authors                             id  \\\n",
      "0                         ROSALIND CHAMBERS  10.1080/19485565.1954.9987160   \n",
      "1                               REUBEN HILL  10.1080/19485565.1954.9987164   \n",
      "2                          FREDERICK OSBORN  10.1080/19485565.1954.9987166   \n",
      "3                             BRUCE WALLACE  10.1080/19485565.1954.9987172   \n",
      "4                             CONRAD BERENS  10.1080/19485565.1954.9987173   \n",
      "..                                      ...                            ...   \n",
      "967  RICHARD H. OSBORNE; BARBARA T. OSBORNE  10.1080/19485565.1999.9989001   \n",
      "968  RICHARD H. OSBORNE; BARBARA T. OSBORNE  10.1080/19485565.1999.9989002   \n",
      "969                   THEODOSIUS DOBZHANSKY  10.1080/19485565.1999.9989003   \n",
      "970  RICHARD H. OSBORNE; BARBARA T. OSBORNE  10.1080/19485565.1999.9989004   \n",
      "971  RICHARD H. OSBORNE; BARBARA T. OSBORNE  10.1080/19485565.1999.9989005   \n",
      "\n",
      "      publisher  \n",
      "0    equarterly  \n",
      "1    equarterly  \n",
      "2    equarterly  \n",
      "3    equarterly  \n",
      "4    equarterly  \n",
      "..          ...  \n",
      "967      socbio  \n",
      "968      socbio  \n",
      "969      socbio  \n",
      "970      socbio  \n",
      "971      socbio  \n",
      "\n",
      "[2544 rows x 8 columns]\n"
     ]
    }
   ],
   "source": [
    "files = ['equarterly', 'ereview', 'socbio']\n",
    "\n",
    "df = pd.DataFrame()\n",
    "\n",
    "for file in files:\n",
    "       \n",
    "    fd = open('data/' + file + '.json')\n",
    "    eq = json.load(fd)\n",
    "    eq = eq[file]\n",
    "    cols = eq[0].keys()\n",
    "\n",
    "    temp_df = pd.DataFrame(eq, columns=cols)\n",
    "    temp_df['publisher'] = file\n",
    "    df = pd.concat([df, temp_df])\n",
    "\n",
    "print(df)\n",
    "\n",
    "\n"
   ]
  },
  {
   "cell_type": "code",
   "execution_count": null,
   "metadata": {},
   "outputs": [],
   "source": []
  }
 ],
 "metadata": {
  "kernelspec": {
   "display_name": "Python 3",
   "language": "python",
   "name": "python3"
  },
  "language_info": {
   "codemirror_mode": {
    "name": "ipython",
    "version": 3
   },
   "file_extension": ".py",
   "mimetype": "text/x-python",
   "name": "python",
   "nbconvert_exporter": "python",
   "pygments_lexer": "ipython3",
   "version": "3.6.4"
  }
 },
 "nbformat": 4,
 "nbformat_minor": 4
}
